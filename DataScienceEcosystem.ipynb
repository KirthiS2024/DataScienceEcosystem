{
  "nbformat": 4,
  "nbformat_minor": 0,
  "metadata": {
    "colab": {
      "provenance": []
    },
    "kernelspec": {
      "name": "python3",
      "display_name": "Python 3"
    },
    "language_info": {
      "name": "python"
    }
  },
  "cells": [
    {
      "cell_type": "markdown",
      "source": [
        "# Data Science Tools and Ecosystem"
      ],
      "metadata": {
        "id": "ASW5_bnAW8Xz"
      }
    },
    {
      "cell_type": "markdown",
      "source": [
        "## Author:\n",
        "Kirthivarsha Sivakumar"
      ],
      "metadata": {
        "id": "T8k5pyk6FHFR"
      }
    },
    {
      "cell_type": "markdown",
      "source": [
        "In this notebook, Data Science Tools and Ecosystem are summarized."
      ],
      "metadata": {
        "id": "zOhXnBcXXK9N"
      }
    },
    {
      "cell_type": "markdown",
      "source": [
        "Some of the popular languages that Data Scientists use are:\n",
        "\n",
        "1.   Python\n",
        "2.   Java\n",
        "3.   R\n",
        "4.   Javascript\n",
        "\n"
      ],
      "metadata": {
        "id": "c6bE1cKqXZMU"
      }
    },
    {
      "cell_type": "markdown",
      "source": [
        "Objectives:\n",
        "\n",
        "*   Popular Languages Data Scientists use\n",
        "*   Commonly used libraries\n",
        "*   Data Science Tools\n",
        "\n"
      ],
      "metadata": {
        "id": "jmvyvSlThy2h"
      }
    },
    {
      "cell_type": "markdown",
      "source": [
        "Some of the commonly used libraries used by Data Scientists include:\n",
        "\n",
        "1.   NumPy\n",
        "2.   Matplotlib\n",
        "3.   Seaborn\n",
        "\n"
      ],
      "metadata": {
        "id": "N-Z0aVqOZS8a"
      }
    },
    {
      "cell_type": "markdown",
      "source": [
        "Data Science Tools\n",
        "\n",
        "1.   Anaconda\n",
        "2.   PyCharm\n",
        "3.   Jupyter Notebook\n",
        "\n"
      ],
      "metadata": {
        "id": "eWbrcxkBemSd"
      }
    },
    {
      "cell_type": "markdown",
      "source": [
        "### Below are a few examples of evaluating arithmetic expressions in Python.\n"
      ],
      "metadata": {
        "id": "-k6bTlFTgQBQ"
      }
    },
    {
      "cell_type": "code",
      "source": [
        "#This a simple arithmetic expression to mutiply then add integers\n",
        "print((3*4)+5)"
      ],
      "metadata": {
        "colab": {
          "base_uri": "https://localhost:8080/"
        },
        "id": "ms1RnuiIgvVO",
        "outputId": "fb10228c-7d4b-4972-d471-c8bea1ae010e"
      },
      "execution_count": 1,
      "outputs": [
        {
          "output_type": "stream",
          "name": "stdout",
          "text": [
            "17\n"
          ]
        }
      ]
    },
    {
      "cell_type": "code",
      "source": [
        "#This will convert 200 minutes to hours by diving by 60\n",
        "print(200/60)"
      ],
      "metadata": {
        "id": "uAnNEoNehG9v"
      },
      "execution_count": null,
      "outputs": []
    }
  ]
}